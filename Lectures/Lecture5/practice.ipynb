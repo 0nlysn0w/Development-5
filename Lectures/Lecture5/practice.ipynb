{
 "cells": [
  {
   "cell_type": "markdown",
   "metadata": {},
   "source": [
    "# Activities"
   ]
  },
  {
   "cell_type": "markdown",
   "metadata": {},
   "source": [
    "Note: the practice happens almost exclusively on paper, potentially augmented by multiple choice questions in order to submit an answer that shows understanding.\n",
    "\n",
    "The activities performed are:\n",
    "- Build a \"datetime\" view that shows the current time\n",
    "- Pass the current datetime from the controller via `ViewData[\"time\"]`\n",
    "- Add a query to pass a list of items to the view, and draw all the items in the HTML as a a list\n",
    "- Build REST-style pages for the `GET` portion only\n",
    "    - `xxx/students?page_index=Y` opens a page with all students from page `10`\n",
    "    - `xxx/students/10` opens a page with the student with `id=10`"
   ]
  }
 ],
 "metadata": {
  "kernelspec": {
   "display_name": "Python 3",
   "language": "python",
   "name": "python3"
  },
  "language_info": {
   "codemirror_mode": {
    "name": "ipython",
    "version": 3
   },
   "file_extension": ".py",
   "mimetype": "text/x-python",
   "name": "python",
   "nbconvert_exporter": "python",
   "pygments_lexer": "ipython3",
   "version": "3.5.2"
  }
 },
 "nbformat": 4,
 "nbformat_minor": 1
}
