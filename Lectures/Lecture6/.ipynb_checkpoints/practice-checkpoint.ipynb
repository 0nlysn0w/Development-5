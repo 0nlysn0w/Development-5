{
 "cells": [
  {
   "cell_type": "markdown",
   "metadata": {},
   "source": [
    "# Activities"
   ]
  },
  {
   "cell_type": "markdown",
   "metadata": {},
   "source": [
    "Note: the practice happens almost exclusively on paper, potentially augmented by multiple choice questions in order to submit an answer that shows understanding.\n",
    "\n",
    "The activities performed are built in a simple TypeScript/React application performing basic actions:\n",
    "- render `Hello world`\n",
    "- store some state and change it whenever a button is clicked\n",
    "- load data from a fake (or real) API and use it to populate the state (use `componentWillMount`)\n",
    "- instantiate children components and pass them some subset of the state\n",
    "- let each child component modify its data by also passing it callbacks "
   ]
  }
 ],
 "metadata": {
  "kernelspec": {
   "display_name": "Python 3",
   "language": "python",
   "name": "python3"
  },
  "language_info": {
   "codemirror_mode": {
    "name": "ipython",
    "version": 3
   },
   "file_extension": ".py",
   "mimetype": "text/x-python",
   "name": "python",
   "nbconvert_exporter": "python",
   "pygments_lexer": "ipython3",
   "version": "3.5.2"
  }
 },
 "nbformat": 4,
 "nbformat_minor": 1
}
